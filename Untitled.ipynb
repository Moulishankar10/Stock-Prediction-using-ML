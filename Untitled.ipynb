{
 "metadata": {
  "language_info": {
   "codemirror_mode": {
    "name": "ipython",
    "version": 3
   },
   "file_extension": ".py",
   "mimetype": "text/x-python",
   "name": "python",
   "nbconvert_exporter": "python",
   "pygments_lexer": "ipython3",
   "version": "3.8.5-final"
  },
  "orig_nbformat": 2,
  "kernelspec": {
   "name": "python38564bit5ba62759efe349fbb308309384d019b7",
   "display_name": "Python 3.8.5 64-bit"
  }
 },
 "nbformat": 4,
 "nbformat_minor": 2,
 "cells": [
  {
   "cell_type": "code",
   "execution_count": 21,
   "metadata": {},
   "outputs": [],
   "source": [
    "# STOCK PREDICTION USING ML\n",
    "\n",
    "# DEVELOPED BY: \n",
    "# MOULISHANKAR M.R\n",
    "# VIGNESHWAR RAVICHANDAR\n",
    "\n",
    "# IMPORTING REQUIRED MODULES\n",
    "import numpy as np\n",
    "import pandas as pd\n",
    "import matplotlib.pyplot as plt\n",
    "import datetime as dt\n",
    "from sklearn.preprocessing import PolynomialFeatures\n",
    "from sklearn.linear_model import LinearRegression\n"
   ]
  },
  {
   "cell_type": "code",
   "execution_count": 22,
   "metadata": {},
   "outputs": [
    {
     "output_type": "execute_result",
     "data": {
      "text/plain": [
       "   No.Months    Month  Prod 1  Prod 2  Prod 3\n",
       "0          1  01-2020      12      23      45\n",
       "1          2  02-2020      45      34      21\n",
       "2          3  03-2020      34      32      35\n",
       "3          4  05-2020      14      45      34"
      ],
      "text/html": "<div>\n<style scoped>\n    .dataframe tbody tr th:only-of-type {\n        vertical-align: middle;\n    }\n\n    .dataframe tbody tr th {\n        vertical-align: top;\n    }\n\n    .dataframe thead th {\n        text-align: right;\n    }\n</style>\n<table border=\"1\" class=\"dataframe\">\n  <thead>\n    <tr style=\"text-align: right;\">\n      <th></th>\n      <th>No.Months</th>\n      <th>Month</th>\n      <th>Prod 1</th>\n      <th>Prod 2</th>\n      <th>Prod 3</th>\n    </tr>\n  </thead>\n  <tbody>\n    <tr>\n      <th>0</th>\n      <td>1</td>\n      <td>01-2020</td>\n      <td>12</td>\n      <td>23</td>\n      <td>45</td>\n    </tr>\n    <tr>\n      <th>1</th>\n      <td>2</td>\n      <td>02-2020</td>\n      <td>45</td>\n      <td>34</td>\n      <td>21</td>\n    </tr>\n    <tr>\n      <th>2</th>\n      <td>3</td>\n      <td>03-2020</td>\n      <td>34</td>\n      <td>32</td>\n      <td>35</td>\n    </tr>\n    <tr>\n      <th>3</th>\n      <td>4</td>\n      <td>05-2020</td>\n      <td>14</td>\n      <td>45</td>\n      <td>34</td>\n    </tr>\n  </tbody>\n</table>\n</div>"
     },
     "metadata": {},
     "execution_count": 22
    }
   ],
   "source": [
    "data = pd.read_csv(\"data/Quantity Sold.csv\")\n",
    "data"
   ]
  },
  {
   "cell_type": "code",
   "execution_count": 23,
   "metadata": {},
   "outputs": [],
   "source": [
    "mon = 0\n",
    "x = []"
   ]
  },
  {
   "cell_type": "code",
   "execution_count": 24,
   "metadata": {},
   "outputs": [],
   "source": [
    "initial_str= data[\"Month\"][0]\n",
    "initial = dt.datetime(int(initial_str[3:]),int(initial_str[:2]),1)\n"
   ]
  },
  {
   "cell_type": "code",
   "execution_count": 25,
   "metadata": {},
   "outputs": [],
   "source": [
    "for i in range(len(data[\"Month\"])):\n",
    "    final_str=data[\"Month\"][i]\n",
    "    final = dt.datetime(int(final_str[3:]),int(final_str[:2]),1)\n",
    "    diff = (final.year - initial.year) * 12 + (final.month - initial.month)\n",
    "    x.append(diff)"
   ]
  },
  {
   "cell_type": "code",
   "execution_count": 28,
   "metadata": {},
   "outputs": [
    {
     "output_type": "execute_result",
     "data": {
      "text/plain": [
       "array([[0],\n",
       "       [1],\n",
       "       [2],\n",
       "       [4]])"
      ]
     },
     "metadata": {},
     "execution_count": 28
    }
   ],
   "source": [
    "x = np.array(x,dtype = int)\n",
    "x = x.reshape(len(x),1)\n",
    "x"
   ]
  },
  {
   "cell_type": "code",
   "execution_count": 27,
   "metadata": {},
   "outputs": [
    {
     "output_type": "execute_result",
     "data": {
      "text/plain": [
       "array([[12],\n",
       "       [45],\n",
       "       [34],\n",
       "       [14]])"
      ]
     },
     "metadata": {},
     "execution_count": 27
    }
   ],
   "source": [
    "prod = input(\"Enter the product name: \")\n",
    "y = np.array(data[prod],dtype = int)\n",
    "y = y.reshape(len(y),1)\n",
    "y"
   ]
  },
  {
   "cell_type": "code",
   "execution_count": 34,
   "metadata": {},
   "outputs": [
    {
     "output_type": "execute_result",
     "data": {
      "text/plain": [
       "array([[14]])"
      ]
     },
     "metadata": {},
     "execution_count": 34
    }
   ],
   "source": [
    "tp_str = input(\"Enter the time period: \")\n",
    "tp = dt.datetime(int(tp_str[3:]),int(tp_str[:2]),1)\n",
    "pred_diff =(tp.year - initial.year) * 12 + (tp.month - initial.month)\n",
    "pred_diff = np.array(pred_diff,dtype = int)\n",
    "pred_diff = pred_diff.reshape(-1,1)\n",
    "pred_diff"
   ]
  },
  {
   "cell_type": "code",
   "execution_count": null,
   "metadata": {},
   "outputs": [],
   "source": []
  }
 ]
}